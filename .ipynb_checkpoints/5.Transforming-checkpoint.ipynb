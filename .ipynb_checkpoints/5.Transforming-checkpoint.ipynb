{
 "cells": [
  {
   "cell_type": "markdown",
   "id": "e3993515-9710-4ac4-89e9-b35ebb81e920",
   "metadata": {
    "id": "rhqRhkElpJ0z"
   },
   "source": [
    "We will explore how to use Large Language Models for text transformation tasks such as language translation, spelling and grammar checking, tone adjustment, and format conversion."
   ]
  },
  {
   "cell_type": "code",
   "execution_count": 1,
   "id": "41df0348",
   "metadata": {
    "height": 132,
    "tags": []
   },
   "outputs": [],
   "source": [
    "import openai\n",
    "from openai import OpenAI\n",
    "import os\n",
    "\n",
    "from dotenv import load_dotenv\n",
    "load_dotenv(\".env\", override=True) # read local .env file\n",
    "\n",
    "openai.api_key  = os.getenv('OPENAI_API_KEY')\n",
    "\n",
    "client = OpenAI()"
   ]
  },
  {
   "cell_type": "code",
   "execution_count": 2,
   "id": "6a85ee0f",
   "metadata": {
    "height": 149,
    "tags": []
   },
   "outputs": [],
   "source": [
    "def get_completion(prompt, model=\"gpt-4.1-nano\"):\n",
    "\n",
    "    response = client.responses.create(\n",
    "    model=model,\n",
    "    input=prompt,\n",
    "    temperature = 0)\n",
    "    \n",
    "    return response.output_text"
   ]
  },
  {
   "cell_type": "markdown",
   "id": "1d8f0bd8-628e-4c36-bcd0-2110162f25fc",
   "metadata": {
    "id": "zdxC4c6pwqA5"
   },
   "source": [
    "## Translation\n",
    "\n",
    "ChatGPT is trained with sources in many languages. This gives the model the ability to do translation. Here are some examples of how to use this capability."
   ]
  },
  {
   "cell_type": "code",
   "execution_count": 4,
   "id": "9c4df6ff",
   "metadata": {
    "height": 115,
    "tags": []
   },
   "outputs": [
    {
     "name": "stdout",
     "output_type": "stream",
     "text": [
      "Hola, me gustaría pedir una licuadora.\n"
     ]
    }
   ],
   "source": [
    "prompt = f\"\"\"\n",
    "Translate the following English text to Spanish: \\\n",
    "```Hi, I would like to order a blender```\n",
    "\"\"\"\n",
    "response = get_completion(prompt)\n",
    "print(response)"
   ]
  },
  {
   "cell_type": "code",
   "execution_count": 5,
   "id": "7300ed9b",
   "metadata": {
    "height": 115,
    "tags": []
   },
   "outputs": [
    {
     "name": "stdout",
     "output_type": "stream",
     "text": [
      "The language of the phrase \"Combien coûte le lampadaire?\" is French.\n"
     ]
    }
   ],
   "source": [
    "prompt = f\"\"\"\n",
    "Tell me which language this is: \n",
    "```Combien coûte le lampadaire?```\n",
    "\"\"\"\n",
    "response = get_completion(prompt)\n",
    "print(response)"
   ]
  },
  {
   "cell_type": "code",
   "execution_count": 6,
   "id": "791e789b",
   "metadata": {
    "height": 132,
    "tags": []
   },
   "outputs": [
    {
     "name": "stdout",
     "output_type": "stream",
     "text": [
      "Sure! Here are the translations:\n",
      "\n",
      "**French:** Je veux commander un basketball.  \n",
      "**Spanish:** Quiero pedir un baloncesto.  \n",
      "**English (pirate):** I be wantin' to order a basketball.\n"
     ]
    }
   ],
   "source": [
    "prompt = f\"\"\"\n",
    "Translate the following  text to French and Spanish\n",
    "and English pirate: \\\n",
    "```I want to order a basketball```\n",
    "\"\"\"\n",
    "response = get_completion(prompt)\n",
    "print(response)"
   ]
  },
  {
   "cell_type": "code",
   "execution_count": 7,
   "id": "fcf7eb63",
   "metadata": {
    "height": 132,
    "tags": []
   },
   "outputs": [
    {
     "name": "stdout",
     "output_type": "stream",
     "text": [
      "Certainly! Here is the translation of \"Would you like to order a pillow?\" in both formal and informal Spanish:\n",
      "\n",
      "**Formal:**  \n",
      "¿Le gustaría ordenar una almohada?\n",
      "\n",
      "**Informal:**  \n",
      "¿Te gustaría ordenar una almohada?\n"
     ]
    }
   ],
   "source": [
    "prompt = f\"\"\"\n",
    "Translate the following text to Spanish in both the \\\n",
    "formal and informal forms: \n",
    "'Would you like to order a pillow?'\n",
    "\"\"\"\n",
    "response = get_completion(prompt)\n",
    "print(response)"
   ]
  },
  {
   "cell_type": "markdown",
   "id": "8edb56d2-a32a-470f-9f40-4fc5b1ea0849",
   "metadata": {
    "id": "-hN2bczQrRC1"
   },
   "source": [
    "### Universal Translator\n",
    "Imagine you are in charge of IT at a large multinational e-commerce company. Users are messaging you with IT issues in all their native languages. Your staff is from all over the world and speaks only their native languages. You need a universal translator!"
   ]
  },
  {
   "cell_type": "code",
   "execution_count": 8,
   "id": "68a40bf0",
   "metadata": {
    "height": 132,
    "tags": []
   },
   "outputs": [],
   "source": [
    "user_messages = [\n",
    "  \"La performance du système est plus lente que d'habitude.\",  # System performance is slower than normal         \n",
    "  \"Mi monitor tiene píxeles que no se iluminan.\",              # My monitor has pixels that are not lighting\n",
    "  \"Il mio mouse non funziona\",                                 # My mouse is not working\n",
    "  \"Mój klawisz Ctrl jest zepsuty\",                             # My keyboard has a broken control key\n",
    "  \"我的屏幕在闪烁\"                                               # My screen is flashing\n",
    "] "
   ]
  },
  {
   "cell_type": "code",
   "execution_count": 9,
   "id": "552d0db9",
   "metadata": {
    "height": 200,
    "tags": []
   },
   "outputs": [
    {
     "name": "stdout",
     "output_type": "stream",
     "text": [
      "Original message (The language of the text is French.): La performance du système est plus lente que d'habitude.\n",
      "Certainly! Here's the translation:\n",
      "\n",
      "**English:**  \n",
      "The system's performance is slower than usual.\n",
      "\n",
      "**Korean:**  \n",
      "시스템의 성능이 평소보다 느립니다. \n",
      "\n",
      "Original message (The language of the sentence is Spanish.): Mi monitor tiene píxeles que no se iluminan.\n",
      "Sure! Here's the translation:\n",
      "\n",
      "**English:**  \n",
      "\"My monitor has pixels that do not light up.\"\n",
      "\n",
      "**Korean:**  \n",
      "\"내 모니터에는 빛나지 않는 픽셀이 있습니다.\" \n",
      "\n",
      "Original message (The language of the phrase \"Il mio mouse non funziona\" is Italian.): Il mio mouse non funziona\n",
      "Sure! Here's the translation:\n",
      "\n",
      "**English:** My mouse isn't working.  \n",
      "**Korean:** 내 마우스가 작동하지 않아요. \n",
      "\n",
      "Original message (The language of the text \"Mój klawisz Ctrl jest zepsuty\" is Polish.): Mój klawisz Ctrl jest zepsuty\n",
      "Sure! Here's the translation:\n",
      "\n",
      "**English:** My Ctrl key is broken.\n",
      "\n",
      "**Korean:** 내 Ctrl 키가 고장났어요. \n",
      "\n",
      "Original message (The language of the text \"我的屏幕在闪烁\" is Chinese.): 我的屏幕在闪烁\n",
      "Sure! Here's the translation:\n",
      "\n",
      "**English:** My screen is flickering.\n",
      "\n",
      "**Korean:** 내 화면이 깜박이고 있어요. \n",
      "\n"
     ]
    }
   ],
   "source": [
    "for issue in user_messages:\n",
    "    prompt = f\"Tell me what language this is: ```{issue}```\"\n",
    "    lang = get_completion(prompt)\n",
    "    print(f\"Original message ({lang}): {issue}\")\n",
    "\n",
    "    prompt = f\"\"\"\n",
    "    Translate the following  text to English \\\n",
    "    and Korean: ```{issue}```\n",
    "    \"\"\"\n",
    "    response = get_completion(prompt)\n",
    "    print(response, \"\\n\")"
   ]
  },
  {
   "cell_type": "markdown",
   "id": "1d9e54ca-f93a-43c8-a295-bff7a89f77f5",
   "metadata": {
    "id": "JH3-0vdjsILh"
   },
   "source": [
    "## Tone Transformation\n",
    "Writing can vary based on the intended audience. ChatGPT can produce different tones.\n"
   ]
  },
  {
   "cell_type": "code",
   "execution_count": 10,
   "id": "2deac328",
   "metadata": {
    "height": 115,
    "tags": []
   },
   "outputs": [
    {
     "name": "stdout",
     "output_type": "stream",
     "text": [
      "Dear Sir or Madam,\n",
      "\n",
      "My name is Joe. I would like to bring to your attention the specifications of this standing lamp for your review.\n",
      "\n",
      "Sincerely,  \n",
      "Joe\n"
     ]
    }
   ],
   "source": [
    "prompt = f\"\"\"\n",
    "Translate the following from slang to a business letter: \n",
    "'Dude, This is Joe, check out this spec on this standing lamp.'\n",
    "\"\"\"\n",
    "response = get_completion(prompt)\n",
    "print(response)"
   ]
  },
  {
   "cell_type": "markdown",
   "id": "a2c7eb73-6b82-442d-b4f8-251c308e89d5",
   "metadata": {
    "id": "p3e9sZh5tWIa"
   },
   "source": [
    "## Format Conversion\n",
    "ChatGPT can translate between formats. The prompt should describe the input and output formats."
   ]
  },
  {
   "cell_type": "code",
   "execution_count": 11,
   "id": "5a37f0a0",
   "metadata": {
    "height": 217,
    "tags": []
   },
   "outputs": [
    {
     "name": "stdout",
     "output_type": "stream",
     "text": [
      "Sure! Here's an HTML table with a title and column headers based on the provided JSON data:\n",
      "\n",
      "```html\n",
      "<!DOCTYPE html>\n",
      "<html>\n",
      "<head>\n",
      "    <title>Restaurant Employees</title>\n",
      "    <style>\n",
      "        table {\n",
      "            width: 50%;\n",
      "            border-collapse: collapse;\n",
      "            margin: 20px 0;\n",
      "        }\n",
      "        th, td {\n",
      "            border: 1px solid #999;\n",
      "            padding: 8px 12px;\n",
      "            text-align: left;\n",
      "        }\n",
      "        th {\n",
      "            background-color: #f2f2f2;\n",
      "        }\n",
      "        caption {\n",
      "            font-size: 1.5em;\n",
      "            margin-bottom: 10px;\n",
      "        }\n",
      "    </style>\n",
      "</head>\n",
      "<body>\n",
      "    <table>\n",
      "        <caption>Restaurant Employees</caption>\n",
      "        <thead>\n",
      "            <tr>\n",
      "                <th>Name</th>\n",
      "                <th>Email</th>\n",
      "            </tr>\n",
      "        </thead>\n",
      "        <tbody>\n",
      "            <tr>\n",
      "                <td>Shyam</td>\n",
      "                <td>shyamjaiswal@gmail.com</td>\n",
      "            </tr>\n",
      "            <tr>\n",
      "                <td>Bob</td>\n",
      "                <td>bob32@gmail.com</td>\n",
      "            </tr>\n",
      "            <tr>\n",
      "                <td>Jai</td>\n",
      "                <td>jai87@gmail.com</td>\n",
      "            </tr>\n",
      "        </tbody>\n",
      "    </table>\n",
      "</body>\n",
      "</html>\n",
      "```\n",
      "\n",
      "You can copy and save this code as an `.html` file to view the table in your browser.\n"
     ]
    }
   ],
   "source": [
    "data_json = { \"resturant employees\" :[ \n",
    "    {\"name\":\"Shyam\", \"email\":\"shyamjaiswal@gmail.com\"},\n",
    "    {\"name\":\"Bob\", \"email\":\"bob32@gmail.com\"},\n",
    "    {\"name\":\"Jai\", \"email\":\"jai87@gmail.com\"}\n",
    "]}\n",
    "\n",
    "prompt = f\"\"\"\n",
    "Translate the following python dictionary from JSON to an HTML \\\n",
    "table with column headers and title: {data_json}\n",
    "\"\"\"\n",
    "response = get_completion(prompt)\n",
    "print(response)"
   ]
  },
  {
   "cell_type": "code",
   "execution_count": 18,
   "id": "481a46b7",
   "metadata": {
    "height": 47,
    "tags": []
   },
   "outputs": [
    {
     "data": {
      "text/html": [
       "Here's a polished and corrected version of your review:\n",
       "\n",
       "---\n",
       "\n",
       "I got this for my daughter’s birthday because she keeps taking mine from my room. Yes, adults also like pandas! She takes it everywhere with her, and it’s super soft and cute. One of the ears is a bit lower than the other, which I don’t think was intentional, as it seems asymmetrical. It’s a bit small for the price I paid, and I believe there are other options that are larger for the same cost. It arrived a day earlier than expected, so I got to enjoy it myself before giving it to my daughter.\n",
       "\n",
       "---\n",
       "\n",
       "Let me know if you'd like any further adjustments!"
      ],
      "text/plain": [
       "<IPython.core.display.HTML object>"
      ]
     },
     "metadata": {},
     "output_type": "display_data"
    }
   ],
   "source": [
    "from IPython.display import display, Markdown, Latex, HTML, JSON\n",
    "display(HTML(response))"
   ]
  },
  {
   "cell_type": "markdown",
   "id": "2df1824c-534b-45cb-b0c1-3000bba5adbe",
   "metadata": {
    "id": "qLTz16qEzyT_"
   },
   "source": [
    "## Spellcheck/Grammar check.\n",
    "\n",
    "Here are some examples of common grammar and spelling problems and the LLM's response. \n",
    "\n",
    "To signal to the LLM that you want it to proofread your text, you instruct the model to 'proofread' or 'proofread and correct'."
   ]
  },
  {
   "cell_type": "code",
   "execution_count": 12,
   "id": "52d77283",
   "metadata": {
    "height": 302,
    "tags": []
   },
   "outputs": [
    {
     "name": "stdout",
     "output_type": "stream",
     "text": [
      "The girl with the black and white puppies has a ball.\n",
      "Yolanda has her notebook\n",
      "Its going to be a long day Does the car need its oil changed\n",
      "Their goes my freedom There going to bring they’re suitcases\n",
      "You're going to need your notebook\n",
      "That medicine affects my ability to sleep Have you heard of the butterfly effect\n",
      "This phrase is to check chatGPT for spelling ability\n"
     ]
    }
   ],
   "source": [
    "text = [ \n",
    "  \"The girl with the black and white puppies have a ball.\",  # The girl has a ball.\n",
    "  \"Yolanda has her notebook.\", # ok\n",
    "  \"Its going to be a long day. Does the car need it’s oil changed?\",  # Homonyms\n",
    "  \"Their goes my freedom. There going to bring they’re suitcases.\",  # Homonyms\n",
    "  \"Your going to need you’re notebook.\",  # Homonyms\n",
    "  \"That medicine effects my ability to sleep. Have you heard of the butterfly affect?\", # Homonyms\n",
    "  \"This phrase is to cherck chatGPT for speling abilitty\"  # spelling\n",
    "]\n",
    "for t in text:\n",
    "    prompt = f\"\"\"Proofread and correct the following text\n",
    "    and rewrite the corrected version. If you don't find\n",
    "    and errors, just say \"No errors found\". Don't use \n",
    "    any punctuation around the text:\n",
    "    ```{t}```\"\"\"\n",
    "    response = get_completion(prompt)\n",
    "    print(response)"
   ]
  },
  {
   "cell_type": "code",
   "execution_count": 14,
   "id": "7543fe7d",
   "metadata": {
    "height": 234,
    "tags": []
   },
   "outputs": [
    {
     "name": "stdout",
     "output_type": "stream",
     "text": [
      "Here's a polished and corrected version of your review:\n",
      "\n",
      "---\n",
      "\n",
      "I got this for my daughter’s birthday because she keeps taking mine from my room. Yes, adults also like pandas! She takes it everywhere with her, and it’s super soft and cute. One of the ears is a bit lower than the other, which I don’t think was intentional, as it seems asymmetrical. It’s a bit small for the price I paid, and I believe there are other options that are larger for the same cost. It arrived a day earlier than expected, so I got to enjoy it myself before giving it to my daughter.\n",
      "\n",
      "---\n",
      "\n",
      "Let me know if you'd like any further adjustments!\n"
     ]
    }
   ],
   "source": [
    "text = f\"\"\"\n",
    "Got this for my daughter for her birthday cuz she keeps taking \\\n",
    "mine from my room.  Yes, adults also like pandas too.  She takes \\\n",
    "it everywhere with her, and it's super soft and cute.  One of the \\\n",
    "ears is a bit lower than the other, and I don't think that was \\\n",
    "designed to be asymmetrical. It's a bit small for what I paid for it \\\n",
    "though. I think there might be other options that are bigger for \\\n",
    "the same price.  It arrived a day earlier than expected, so I got \\\n",
    "to play with it myself before I gave it to my daughter.\n",
    "\"\"\"\n",
    "prompt = f\"proofread and correct this review: ```{text}```\"\n",
    "response = get_completion(prompt)\n",
    "print(response)"
   ]
  },
  {
   "cell_type": "code",
   "execution_count": 19,
   "id": "11ac80a0",
   "metadata": {
    "height": 81,
    "tags": []
   },
   "outputs": [
    {
     "name": "stdout",
     "output_type": "stream",
     "text": [
      "<redlines.redlines.Redlines object at 0x000001A882B17FB0>\n"
     ]
    },
    {
     "data": {
      "text/markdown": [
       "<span style='color:red;font-weight:700;text-decoration:line-through;'>Got </span><span style='color:green;font-weight:700;'>Here's a polished and corrected version of your review: </span>\n",
       "\n",
       "<span style='color:green;font-weight:700;'>--- </span>\n",
       "\n",
       "<span style='color:green;font-weight:700;'>I got </span>this for my <span style='color:red;font-weight:700;text-decoration:line-through;'>daughter for her </span><span style='color:green;font-weight:700;'>daughter’s </span>birthday <span style='color:red;font-weight:700;text-decoration:line-through;'>cuz </span><span style='color:green;font-weight:700;'>because </span>she keeps taking mine from my room.  Yes, adults also like <span style='color:red;font-weight:700;text-decoration:line-through;'>pandas too.  </span><span style='color:green;font-weight:700;'>pandas! </span>She takes it everywhere with her, and <span style='color:red;font-weight:700;text-decoration:line-through;'>it's </span><span style='color:green;font-weight:700;'>it’s </span>super soft and cute.  One of the ears is a bit lower than the other, <span style='color:red;font-weight:700;text-decoration:line-through;'>and </span><span style='color:green;font-weight:700;'>which </span>I <span style='color:red;font-weight:700;text-decoration:line-through;'>don't </span><span style='color:green;font-weight:700;'>don’t </span>think <span style='color:red;font-weight:700;text-decoration:line-through;'>that </span>was <span style='color:red;font-weight:700;text-decoration:line-through;'>designed to be </span><span style='color:green;font-weight:700;'>intentional, as it seems </span>asymmetrical. <span style='color:red;font-weight:700;text-decoration:line-through;'>It's </span><span style='color:green;font-weight:700;'>It’s </span>a bit small for <span style='color:red;font-weight:700;text-decoration:line-through;'>what </span><span style='color:green;font-weight:700;'>the price </span>I <span style='color:red;font-weight:700;text-decoration:line-through;'>paid for it though. </span><span style='color:green;font-weight:700;'>paid, and </span>I <span style='color:red;font-weight:700;text-decoration:line-through;'>think </span><span style='color:green;font-weight:700;'>believe </span>there <span style='color:red;font-weight:700;text-decoration:line-through;'>might be </span><span style='color:green;font-weight:700;'>are </span>other options that are <span style='color:red;font-weight:700;text-decoration:line-through;'>bigger </span><span style='color:green;font-weight:700;'>larger </span>for the same <span style='color:red;font-weight:700;text-decoration:line-through;'>price.  </span><span style='color:green;font-weight:700;'>cost. </span>It arrived a day earlier than expected, so I got to <span style='color:red;font-weight:700;text-decoration:line-through;'>play with </span><span style='color:green;font-weight:700;'>enjoy </span>it myself before <span style='color:red;font-weight:700;text-decoration:line-through;'>I gave </span><span style='color:green;font-weight:700;'>giving </span>it to my daughter.<span style='color:green;font-weight:700;'></span>\n",
       "\n",
       "<span style='color:green;font-weight:700;'>--- </span>\n",
       "\n",
       "<span style='color:green;font-weight:700;'>Let me know if you'd like any further adjustments!</span>"
      ],
      "text/plain": [
       "<IPython.core.display.Markdown object>"
      ]
     },
     "metadata": {},
     "output_type": "display_data"
    }
   ],
   "source": [
    "from redlines import Redlines\n",
    "\n",
    "diff = Redlines(text,response)\n",
    "print(diff)\n",
    "display(Markdown(diff.output_markdown))"
   ]
  },
  {
   "cell_type": "code",
   "execution_count": 20,
   "id": "2b4e73fd",
   "metadata": {
    "height": 149,
    "tags": []
   },
   "outputs": [
    {
     "data": {
      "text/markdown": [
       "```markdown\n",
       "This plush panda was purchased as a birthday gift for my daughter, who frequently takes mine from my room—highlighting that even adults find pandas irresistible. She now carries it everywhere; its super-soft texture and adorable design make it a constant companion. However, I noticed that one ear is slightly lower than the other, which appears to be an unintentional asymmetry rather than a design feature. Additionally, considering the price, the size of the plush feels somewhat small, and there may be larger options available at a comparable cost. On a positive note, the item arrived a day earlier than expected, allowing me to enjoy it briefly before presenting it to my daughter. Overall, while charming and well-made, potential buyers might want to explore alternative options for size and value.\n",
       "```"
      ],
      "text/plain": [
       "<IPython.core.display.Markdown object>"
      ]
     },
     "metadata": {},
     "output_type": "display_data"
    }
   ],
   "source": [
    "prompt = f\"\"\"\n",
    "proofread and correct this review. Make it more compelling. \n",
    "Ensure it follows APA style guide and targets an advanced reader. \n",
    "Output in markdown format.\n",
    "Text: ```{text}```\n",
    "\"\"\"\n",
    "response = get_completion(prompt)\n",
    "display(Markdown(response))"
   ]
  },
  {
   "cell_type": "code",
   "execution_count": null,
   "id": "a2b2ca58",
   "metadata": {
    "height": 30
   },
   "outputs": [],
   "source": []
  },
  {
   "cell_type": "markdown",
   "id": "3dbf5020-7d7f-4ba5-840b-20e883cd7c99",
   "metadata": {
    "id": "unsf1JnRr2IC"
   },
   "source": [
    "Thanks to the following sites:\n",
    "\n",
    "https://writingprompts.com/bad-grammar-examples/\n"
   ]
  }
 ],
 "metadata": {
  "kernelspec": {
   "display_name": "Python 3 (ipykernel)",
   "language": "python",
   "name": "python3"
  },
  "language_info": {
   "codemirror_mode": {
    "name": "ipython",
    "version": 3
   },
   "file_extension": ".py",
   "mimetype": "text/x-python",
   "name": "python",
   "nbconvert_exporter": "python",
   "pygments_lexer": "ipython3",
   "version": "3.12.7"
  }
 },
 "nbformat": 4,
 "nbformat_minor": 5
}
