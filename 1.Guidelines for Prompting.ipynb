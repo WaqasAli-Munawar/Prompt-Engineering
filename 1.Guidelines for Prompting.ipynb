{
 "cells": [
  {
   "cell_type": "markdown",
   "id": "1d364994-1d68-4cb5-a8c2-69e647837de6",
   "metadata": {},
   "source": [
    "# Prompting Best Practices and Common Use Cases"
   ]
  },
  {
   "cell_type": "code",
   "execution_count": 1,
   "id": "983f36af-df56-457a-9105-cbd68d1947c7",
   "metadata": {},
   "outputs": [
    {
     "data": {
      "text/plain": [
       "True"
      ]
     },
     "execution_count": 1,
     "metadata": {},
     "output_type": "execute_result"
    }
   ],
   "source": [
    "import os\n",
    "from dotenv import load_dotenv\n",
    "import openai\n",
    "from openai import OpenAI\n",
    "\n",
    "load_dotenv(\".env\", override=True)"
   ]
  },
  {
   "cell_type": "code",
   "execution_count": 2,
   "id": "d72f2d68-d42a-419e-960e-7d4a1419e97a",
   "metadata": {},
   "outputs": [],
   "source": [
    "openai.api_key = os.getenv(\"OPENAI_API_KEY\")"
   ]
  },
  {
   "cell_type": "code",
   "execution_count": 3,
   "id": "d74f89fa-9ac9-4431-91fc-c4dd87bfa1cd",
   "metadata": {},
   "outputs": [],
   "source": [
    "client = OpenAI()"
   ]
  },
  {
   "cell_type": "code",
   "execution_count": 4,
   "id": "447379e2-d6b5-42e2-9c48-c31732dc6616",
   "metadata": {},
   "outputs": [],
   "source": [
    "def get_response(prompt, model=\"gpt-4.1-nano\"):\n",
    "\n",
    "    response = client.responses.create(\n",
    "    model=model,\n",
    "    input=prompt,\n",
    "    temperature = 0)\n",
    "    \n",
    "    return response.output_text"
   ]
  },
  {
   "cell_type": "markdown",
   "id": "4cce8a9a-30cd-4fda-b32a-cd978e3c6221",
   "metadata": {},
   "source": [
    "## Prompting Principles\n",
    "- **Principle 1: Write clear and specific instructions**\n",
    "- **Principle 2: Give the model time to “think”**\n",
    "\n",
    "\n",
    "# Principle 1: Write clear and specific instructions\n",
    "\n",
    "#### Tactic 1: Use delimiters to clearly indicate distinct parts of the input\n",
    "- Delimiters can be anything like: ```, \"\"\", < >, `<tag> </tag>`, `:`"
   ]
  },
  {
   "cell_type": "code",
   "execution_count": 5,
   "id": "4e77bf84-70be-4575-9c25-4e54147d3970",
   "metadata": {},
   "outputs": [
    {
     "name": "stdout",
     "output_type": "stream",
     "text": [
      "Clear and specific instructions in prompts help guide the model to produce accurate and relevant responses, with longer prompts often providing better clarity and context.\n"
     ]
    }
   ],
   "source": [
    "text = \"\"\"\n",
    "You should express what you want a model to do by \n",
    "providing instructions that are as clear and \n",
    "specific as you can possibly make them. \n",
    "This will guide the model towards the desired output, \n",
    "and reduce the chances of receiving irrelevant \n",
    "or incorrect responses. Don't confuse writing a \n",
    "clear prompt with writing a short prompt. \n",
    "In many cases, longer prompts provide more clarity \n",
    "and context for the model, which can lead to \n",
    "more detailed and relevant outputs.\n",
    "\"\"\"\n",
    "prompt = f\"\"\"\n",
    "Summarize the text delimited by triple backticks \n",
    "into a single sentence.\n",
    "```{text}```\n",
    "\"\"\"\n",
    "response = get_response(prompt)\n",
    "print(response)"
   ]
  },
  {
   "cell_type": "markdown",
   "id": "1bc4f7e0-efa7-49a8-9571-dd9d96705dc9",
   "metadata": {},
   "source": [
    "#### Tactic 2: Ask for a structured output\n",
    "- JSON, HTML"
   ]
  },
  {
   "cell_type": "code",
   "execution_count": 6,
   "id": "e1bc853d-f131-40a6-a733-6de47073818c",
   "metadata": {},
   "outputs": [
    {
     "name": "stdout",
     "output_type": "stream",
     "text": [
      "```json\n",
      "[\n",
      "  {\n",
      "    \"book_id\": 1,\n",
      "    \"title\": \"The Echoes of Midnight\",\n",
      "    \"author\": \"Lila Montgomery\",\n",
      "    \"genre\": \"Mystery\"\n",
      "  },\n",
      "  {\n",
      "    \"book_id\": 2,\n",
      "    \"title\": \"Starlight and Shadows\",\n",
      "    \"author\": \"Javier Torres\",\n",
      "    \"genre\": \"Fantasy\"\n",
      "  },\n",
      "  {\n",
      "    \"book_id\": 3,\n",
      "    \"title\": \"Waves of Memory\",\n",
      "    \"author\": \"Sophie Chen\",\n",
      "    \"genre\": \"Historical Fiction\"\n",
      "  }\n",
      "]\n",
      "```\n"
     ]
    }
   ],
   "source": [
    "prompt = \"\"\"\n",
    "Generate a list of three made-up book titles along \n",
    "with their authors and genres. \n",
    "Provide them in JSON format with the following keys: \n",
    "book_id, title, author, genre.\n",
    "\"\"\"\n",
    "response = get_response(prompt)\n",
    "print(response)"
   ]
  },
  {
   "cell_type": "markdown",
   "id": "0b48dc31-84a6-4661-95dd-33a99db64af0",
   "metadata": {},
   "source": [
    "#### Tactic 3: Ask the model to check whether conditions are satisfied"
   ]
  },
  {
   "cell_type": "code",
   "execution_count": 7,
   "id": "a764c56d-728d-4de2-b940-86f2df4526d3",
   "metadata": {},
   "outputs": [
    {
     "name": "stdout",
     "output_type": "stream",
     "text": [
      "Step 1 - Get some water boiling.  \n",
      "Step 2 - Grab a cup and put a tea bag in it.  \n",
      "Step 3 - Once the water is hot enough, pour it over the tea bag.  \n",
      "Step 4 - Let the tea steep for a few minutes.  \n",
      "Step 5 - Take out the tea bag.  \n",
      "Step 6 - Add sugar or milk if desired.\n"
     ]
    }
   ],
   "source": [
    "text_1 = \"\"\"\n",
    "Making a cup of tea is easy! First, you need to get some \n",
    "water boiling. While that's happening, \\\n",
    "grab a cup and put a tea bag in it. Once the water is\n",
    "hot enough, just pour it over the tea bag. \n",
    "Let it sit for a bit so the tea can steep. After a \n",
    "few minutes, take out the tea bag. If you \n",
    "like, you can add some sugar or milk to taste. \n",
    "And that's it! You've got yourself a delicious \n",
    "cup of tea to enjoy.\n",
    "\"\"\"\n",
    "prompt = f\"\"\"\n",
    "You will be provided with text delimited by triple quotes. \n",
    "If it contains a sequence of instructions, \n",
    "re-write those instructions in the following format:\n",
    "\n",
    "Step 1 - ...\n",
    "Step 2 - …\n",
    "…\n",
    "Step N - …\n",
    "\n",
    "If the text does not contain a sequence of instructions, \n",
    "then simply write \"No steps provided.\"\n",
    "\n",
    "\\\"\\\"\\\"{text_1}\\\"\\\"\\\"\n",
    "\"\"\"\n",
    "response = get_response(prompt)\n",
    "\n",
    "print(response)"
   ]
  },
  {
   "cell_type": "code",
   "execution_count": 8,
   "id": "5a18e23c-f0a8-4728-a091-7fdb4719093a",
   "metadata": {},
   "outputs": [
    {
     "name": "stdout",
     "output_type": "stream",
     "text": [
      "No steps provided.\n"
     ]
    }
   ],
   "source": [
    "text_2 = \"\"\"\n",
    "The sun is shining brightly today, and the birds are \n",
    "singing. It's a beautiful day to go for a \n",
    "walk in the park. The flowers are blooming, and the \n",
    "trees are swaying gently in the breeze. People \n",
    "are out and about, enjoying the lovely weather. \n",
    "Some are having picnics, while others are playing \n",
    "games or simply relaxing on the grass. It's a \n",
    "perfect day to spend time outdoors and appreciate the \n",
    "beauty of nature.\n",
    "\"\"\"\n",
    "prompt = f\"\"\"\n",
    "You will be provided with text delimited by triple quotes. \n",
    "If it contains a sequence of instructions, \n",
    "re-write those instructions in the following format:\n",
    "\n",
    "Step 1 - ...\n",
    "Step 2 - …\n",
    "…\n",
    "Step N - …\n",
    "\n",
    "If the text does not contain a sequence of instructions, \\\n",
    "then simply write \\\"No steps provided.\"\n",
    "\n",
    "\\\"\\\"\\\"{text_2}\\\"\\\"\\\"\n",
    "\"\"\"\n",
    "response = get_response(prompt)\n",
    "\n",
    "print(response)"
   ]
  },
  {
   "cell_type": "markdown",
   "id": "c98d1744-f21b-404c-902b-06cd00cdf5d5",
   "metadata": {},
   "source": [
    "#### Tactic 4: \"Few-shot\" prompting"
   ]
  },
  {
   "cell_type": "code",
   "execution_count": 9,
   "id": "e1b165c1-bf16-4b3c-b4e3-b656eda7690f",
   "metadata": {},
   "outputs": [
    {
     "name": "stdout",
     "output_type": "stream",
     "text": [
      "<grandparent>: The mighty oak stands tall through storms and winds; the strongest steel is forged in the hottest fires; the brightest stars shine through the darkest night.\n"
     ]
    }
   ],
   "source": [
    "prompt = \"\"\"\n",
    "Your task is to answer in a consistent style.\n",
    "\n",
    "<child>: Teach me about patience.\n",
    "\n",
    "<grandparent>: The river that carves the deepest \n",
    "valley flows from a modest spring; the\n",
    "grandest symphony originates from a single note; \n",
    "the most intricate tapestry begins with a solitary thread.\n",
    "\n",
    "<child>: Teach me about resilience.\n",
    "\"\"\"\n",
    "response = get_response(prompt)\n",
    "print(response)"
   ]
  },
  {
   "cell_type": "markdown",
   "id": "41b8d396-4758-484b-878d-a8f414c13fb6",
   "metadata": {},
   "source": [
    "# Principle 2: Give the model time to “think” \n",
    "\n",
    "#### Tactic 1: Specify the steps required to complete a task"
   ]
  },
  {
   "cell_type": "code",
   "execution_count": 10,
   "id": "a1326b5e-7f8b-4064-8a22-5fab589ff2aa",
   "metadata": {},
   "outputs": [
    {
     "name": "stdout",
     "output_type": "stream",
     "text": [
      "Jack and Jill, two siblings from a charming village, went on an adventure to fetch water but faced a mishap when Jack tripped and fell, yet they remained cheerful and continued exploring.\n",
      "\n",
      "---\n",
      "\n",
      "Jack et Jill, deux frères et sœurs d'un village charmant, sont partis à l'aventure pour aller chercher de l'eau mais ont rencontré un incident lorsque Jack a trébuché et est tombé, mais ils sont restés joyeux et ont continué à explorer.\n",
      "\n",
      "---\n",
      "\n",
      "Noms dans le résumé français : Jack, Jill\n",
      "\n",
      "---\n",
      "\n",
      "```json\n",
      "{\n",
      "  \"french_summary\": \"Jack et Jill, deux frères et sœurs d'un village charmant, sont partis à l'aventure pour aller chercher de l'eau mais ont rencontré un incident lorsque Jack a trébuché et est tombé, mais ils sont restés joyeux et ont continué à explorer.\",\n",
      "  \"num_names\": 2\n",
      "}\n",
      "```\n"
     ]
    }
   ],
   "source": [
    "text = \"\"\"\n",
    "In a charming village, siblings Jack and Jill set out on \n",
    "a quest to fetch water from a hilltop \n",
    "well. As they climbed, singing joyfully, misfortune \n",
    "struck—Jack tripped on a stone and tumbled \n",
    "down the hill, with Jill following suit. \n",
    "Though slightly battered, the pair returned home to \n",
    "comforting embraces. Despite the mishap, \n",
    "their adventurous spirits remained undimmed, and they \n",
    "continued exploring with delight.\n",
    "\"\"\"\n",
    "# example 1\n",
    "prompt_1 = f\"\"\"\n",
    "Perform the following actions: \n",
    "1 - Summarize the following text delimited by triple \n",
    "backticks with 1 sentence.\n",
    "2 - Translate the summary into French.\n",
    "3 - List each name in the French summary.\n",
    "4 - Output a json object that contains the following \n",
    "keys: french_summary, num_names.\n",
    "\n",
    "Separate your answers with line breaks.\n",
    "\n",
    "Text:\n",
    "```{text}```\n",
    "\"\"\"\n",
    "response = get_response(prompt_1)\n",
    "\n",
    "print(response)"
   ]
  },
  {
   "cell_type": "markdown",
   "id": "9a326777-0b5a-4a90-992a-95bd4610ed29",
   "metadata": {},
   "source": [
    "#### Ask for output in a specified format"
   ]
  },
  {
   "cell_type": "code",
   "execution_count": 11,
   "id": "627f4e98-93dc-4a4e-9cbe-589fe5168969",
   "metadata": {},
   "outputs": [
    {
     "name": "stdout",
     "output_type": "stream",
     "text": [
      "Summary: Jack and Jill, two siblings from a village, experienced a fall while fetching water but remained adventurous and continued exploring despite their mishap.\n",
      "\n",
      "Translation: Jack et Jill, deux frères et sœurs d'un village, ont eu une chute en allant chercher de l'eau mais sont restés aventureux et ont continué à explorer malgré leur mésaventure.\n",
      "\n",
      "Names: Jack, Jill\n",
      "\n",
      "Output JSON: \n",
      "```json\n",
      "{\n",
      "  \"french_summary\": \"Jack et Jill, deux frères et sœurs d'un village, ont eu une chute en allant chercher de l'eau mais sont restés aventureux et ont continué à explorer malgré leur mésaventure.\",\n",
      "  \"num_names\": 2\n",
      "}\n",
      "```\n"
     ]
    }
   ],
   "source": [
    "prompt_2 = f\"\"\"\n",
    "Your task is to perform the following actions: \n",
    "1 - Summarize the following text delimited by \n",
    "  <> with 1 sentence.\n",
    "2 - Translate the summary into French.\n",
    "3 - List each name in the French summary.\n",
    "4 - Output a json object that contains the \n",
    "  following keys: french_summary, num_names.\n",
    "\n",
    "Use the following format:\n",
    "Text: <text to summarize>\n",
    "Summary: <summary>\n",
    "Translation: <summary translation>\n",
    "Names: <list of names in summary>\n",
    "Output JSON: <json with summary and num_names>\n",
    "\n",
    "Text: <{text}>\n",
    "\"\"\"\n",
    "response = get_response(prompt_2)\n",
    "print(response)"
   ]
  },
  {
   "cell_type": "markdown",
   "id": "9078d0d4-f12e-474e-b48a-3daf30aa16b9",
   "metadata": {},
   "source": [
    "#### Tactic 2: Instruct the model to work out its own solution before rushing to a conclusion"
   ]
  },
  {
   "cell_type": "code",
   "execution_count": 12,
   "id": "8c4af239-df03-41d5-be44-5fa7fdfa7163",
   "metadata": {},
   "outputs": [
    {
     "name": "stdout",
     "output_type": "stream",
     "text": [
      "Let's verify the student's solution step by step:\n",
      "\n",
      "Given:\n",
      "- Land cost: \\$100 per sq ft\n",
      "- Solar panels: \\$250 per sq ft\n",
      "- Maintenance: \\$100,000 flat + \\$10 per sq ft\n",
      "\n",
      "Let \\( x \\) be the size of the installation in square feet.\n",
      "\n",
      "Calculations:\n",
      "1. Land cost: \\( 100x \\)\n",
      "2. Solar panel cost: \\( 250x \\)\n",
      "3. Maintenance cost: \\( 100,000 + 10x \\)\n",
      "\n",
      "Total cost:\n",
      "\\[\n",
      "100x + 250x + (100,000 + 10x) = (100x + 250x + 10x) + 100,000 = 360x + 100,000\n",
      "\\]\n",
      "\n",
      "The student combined the costs as:\n",
      "\\[\n",
      "100x + 250x + 100,000 + 100x = 450x + 100,000\n",
      "\\]\n",
      "\n",
      "This is incorrect because the maintenance cost includes an additional \\( 10x \\), which the student did not include. Instead, the total should be:\n",
      "\n",
      "\\[\n",
      "(100x + 250x + 10x) + 100,000 = 360x + 100,000\n",
      "\\]\n",
      "\n",
      "**Conclusion:**\n",
      "The student's total cost calculation is **incorrect**. The correct total cost for the first year as a function of \\( x \\) is:\n",
      "\n",
      "\\[\n",
      "\\boxed{360x + 100,000}\n",
      "\\]\n"
     ]
    }
   ],
   "source": [
    "prompt = f\"\"\"\n",
    "Determine if the student's solution is correct or not.\n",
    "\n",
    "Question:\n",
    "I'm building a solar power installation and I need \n",
    " help working out the financials. \n",
    "- Land costs $100 / square foot\n",
    "- I can buy solar panels for $250 / square foot\n",
    "- I negotiated a contract for maintenance that will cost \n",
    "me a flat $100k per year, and an additional $10 / square \n",
    "foot\n",
    "What is the total cost for the first year of operations \n",
    "as a function of the number of square feet.\n",
    "\n",
    "Student's Solution:\n",
    "Let x be the size of the installation in square feet.\n",
    "Costs:\n",
    "1. Land cost: 100x\n",
    "2. Solar panel cost: 250x\n",
    "3. Maintenance cost: 100,000 + 100x\n",
    "Total cost: 100x + 250x + 100,000 + 100x = 450x + 100,000\n",
    "\"\"\"\n",
    "response = get_response(prompt)\n",
    "print(response)"
   ]
  },
  {
   "cell_type": "code",
   "execution_count": 14,
   "id": "c01e5d95-2655-4737-8eb3-051cd1142a96",
   "metadata": {},
   "outputs": [
    {
     "name": "stdout",
     "output_type": "stream",
     "text": [
      "Question:\n",
      "```\n",
      "I'm building a solar power installation and I need help working out the financials. \n",
      "- Land costs $100 / square foot\n",
      "- I can buy solar panels for $250 / square foot\n",
      "- I negotiated a contract for maintenance that will cost me a flat $100k per year, and an additional $10 / square foot\n",
      "What is the total cost for the first year of operations as a function of the number of square feet.\n",
      "``` \n",
      "Student's solution:\n",
      "```\n",
      "Let x be the size of the installation in square feet.\n",
      "Costs:\n",
      "1. Land cost: 100x\n",
      "2. Solar panel cost: 250x\n",
      "3. Maintenance cost: 100,000 + 100x\n",
      "Total cost: 100x + 250x + 100,000 + 100x = 450x + 100,000\n",
      "```\n",
      "Actual solution:\n",
      "```\n",
      "Let's break down each component:\n",
      "\n",
      "1. Land cost: $100 per square foot, so for x square feet: 100x\n",
      "2. Solar panel cost: $250 per square foot, so for x square feet: 250x\n",
      "3. Maintenance cost: a flat $100,000 plus $10 per square foot, so: 100,000 + 10x\n",
      "\n",
      "Adding all these costs together:\n",
      "Total cost = Land + Solar panels + Maintenance\n",
      "= 100x + 250x + (100,000 + 10x)\n",
      "= (100x + 250x + 10x) + 100,000\n",
      "= 360x + 100,000\n",
      "```\n",
      "Is the student's solution the same as actual solution just calculated:\n",
      "```\n",
      "no\n",
      "```\n",
      "Student grade:\n",
      "```\n",
      "incorrect\n",
      "```\n"
     ]
    }
   ],
   "source": [
    "prompt = f\"\"\"\n",
    "Your task is to determine if the student's solution \n",
    "is correct or not.\n",
    "To solve the problem do the following:\n",
    "- First, work out your own solution to the problem including the final total. \n",
    "- Then compare your solution to the student's solution \n",
    "and evaluate if the student's solution is correct or not. \n",
    "Don't decide if the student's solution is correct until \n",
    "you have done the problem yourself.\n",
    "\n",
    "Use the following format:\n",
    "Question:\n",
    "```\n",
    "question here\n",
    "```\n",
    "Student's solution:\n",
    "```\n",
    "student's solution here\n",
    "```\n",
    "Actual solution:\n",
    "```\n",
    "steps to work out the solution and your solution here\n",
    "```\n",
    "Is the student's solution the same as actual solution \n",
    "just calculated:\n",
    "```\n",
    "yes or no\n",
    "```\n",
    "Student grade:\n",
    "```\n",
    "correct or incorrect\n",
    "```\n",
    "\n",
    "Question:\n",
    "```\n",
    "I'm building a solar power installation and I need help \n",
    "working out the financials. \n",
    "- Land costs $100 / square foot\n",
    "- I can buy solar panels for $250 / square foot\n",
    "- I negotiated a contract for maintenance that will cost \n",
    "me a flat $100k per year, and an additional $10 / square \n",
    "foot\n",
    "What is the total cost for the first year of operations \n",
    "as a function of the number of square feet.\n",
    "``` \n",
    "Student's solution:\n",
    "```\n",
    "Let x be the size of the installation in square feet.\n",
    "Costs:\n",
    "1. Land cost: 100x\n",
    "2. Solar panel cost: 250x\n",
    "3. Maintenance cost: 100,000 + 100x\n",
    "Total cost: 100x + 250x + 100,000 + 100x = 450x + 100,000\n",
    "```\n",
    "Actual solution:\n",
    "\"\"\"\n",
    "response = get_response(prompt)\n",
    "print(response)"
   ]
  },
  {
   "cell_type": "markdown",
   "id": "d76ac6b9-d19e-4ee6-ae52-d3e95a336ff5",
   "metadata": {},
   "source": [
    "## Model Limitations: Hallucinations\n",
    "- Boie is a real company, the product name is not real."
   ]
  },
  {
   "cell_type": "code",
   "execution_count": 15,
   "id": "5a927423-eaa9-4a10-b8dc-ffc0a1048e39",
   "metadata": {},
   "outputs": [
    {
     "name": "stdout",
     "output_type": "stream",
     "text": [
      "The AeroGlide UltraSlim Smart Toothbrush by Boie is a modern, high-tech toothbrush designed to enhance oral hygiene. It features a sleek, ultra-slim design that makes it comfortable to hold and easy to maneuver. The \"Smart\" aspect typically indicates that it includes connectivity features, such as Bluetooth, allowing users to track their brushing habits via a companion app. This can help improve brushing techniques, ensure thorough cleaning, and promote better dental health.\n",
      "\n",
      "Key features of the AeroGlide UltraSlim Smart Toothbrush may include:\n",
      "- **Slim, ergonomic design** for comfortable handling.\n",
      "- **Smart connectivity** to monitor brushing patterns and provide feedback.\n",
      "- **Multiple brushing modes** for customized cleaning (e.g., sensitive, deep clean).\n",
      "- **Timer and pacer functions** to ensure proper brushing duration.\n",
      "- **Replaceable brush heads** for convenience and sustainability.\n",
      "- **Rechargeable battery** with long-lasting power.\n",
      "\n",
      "Boie is known for creating innovative, user-friendly dental products that combine design and technology to promote better oral health. The AeroGlide UltraSlim Smart Toothbrush exemplifies this approach with its focus on comfort, functionality, and smart features.\n",
      "\n",
      "For the most accurate and detailed specifications, I recommend checking Boie’s official website or product listings.\n"
     ]
    }
   ],
   "source": [
    "prompt = f\"\"\"\n",
    "Tell me about AeroGlide UltraSlim Smart Toothbrush by Boie\n",
    "\"\"\"\n",
    "response = get_response(prompt)\n",
    "print(response)"
   ]
  },
  {
   "cell_type": "code",
   "execution_count": null,
   "id": "cc613cf1-ecfd-4170-b970-28a3f03de368",
   "metadata": {},
   "outputs": [],
   "source": []
  }
 ],
 "metadata": {
  "kernelspec": {
   "display_name": "Python 3 (ipykernel)",
   "language": "python",
   "name": "python3"
  },
  "language_info": {
   "codemirror_mode": {
    "name": "ipython",
    "version": 3
   },
   "file_extension": ".py",
   "mimetype": "text/x-python",
   "name": "python",
   "nbconvert_exporter": "python",
   "pygments_lexer": "ipython3",
   "version": "3.12.7"
  }
 },
 "nbformat": 4,
 "nbformat_minor": 5
}
